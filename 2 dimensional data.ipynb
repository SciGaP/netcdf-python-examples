{
 "cells": [
  {
   "cell_type": "code",
   "execution_count": 1,
   "metadata": {
    "collapsed": true
   },
   "outputs": [],
   "source": [
    "import numpy as np\n",
    "import xarray as xr"
   ]
  },
  {
   "cell_type": "code",
   "execution_count": 4,
   "metadata": {
    "collapsed": false
   },
   "outputs": [],
   "source": [
    "ds=xr.open_dataset('https://salishsea.eos.ubc.ca/erddap/griddap/ubcSSnBathymetry2V1')"
   ]
  },
  {
   "cell_type": "code",
   "execution_count": 5,
   "metadata": {
    "collapsed": false
   },
   "outputs": [
    {
     "data": {
      "text/plain": [
       "<xarray.Dataset>\n",
       "Dimensions:     (gridX: 398, gridY: 898)\n",
       "Coordinates:\n",
       "  * gridY       (gridY) int32 0 1 2 3 4 5 6 7 8 9 10 11 12 13 14 15 16 17 18 ...\n",
       "  * gridX       (gridX) int16 0 1 2 3 4 5 6 7 8 9 10 11 12 13 14 15 16 17 18 ...\n",
       "Data variables:\n",
       "    longitude   (gridY, gridX) float32 ...\n",
       "    latitude    (gridY, gridX) float32 ...\n",
       "    bathymetry  (gridY, gridX) float64 ...\n",
       "Attributes:\n",
       "    acknowledgement: MEOPAR, ONC, Compute Canada\n",
       "    cdm_data_type: Grid\n",
       "    comment: Bathymetry, Latitudes and Longitudes\n",
       "    Conventions: CF-1.6, COARDS, ACDD-1.3\n",
       "    coverage_content_type: modelResult\n",
       "    creator_email: sallen@eos.ubc.ca\n",
       "    creator_name: Salish Sea MEOPAR Project Contributors\n",
       "    creator_url: https://salishsea-meopar-docs.readthedocs.org/\n",
       "    drawLandMask: over\n",
       "    history: [2016-02-05 16:35:19] Created dataset.\n",
       "[2016-03-02 18:08:56] Changed all variables to zlib=True.\n",
       "[2016-03-02 18:08:56] Added least_significant_digit=1 and fill_value=0 to bathymetry variable.\n",
       "[2016-03-03 12:28:37] Added valid_range attribute to all variables.\n",
       "2016-06-14T18:40:52Z (local files)\n",
       "2016-06-14T18:40:52Z https://salishsea.eos.ubc.ca/erddap/griddap/ubcSSnBathymetry2V1.das\n",
       "    infoUrl: https://salishsea-meopar-tools.readthedocs.org/en/latest/results_server/index.html#salish-sea-model-results\n",
       "    institution: UBC EOAS\n",
       "    institution_fullname: Earth, Ocean & Atmospheric Sciences, University of British Columbia\n",
       "    keywords: bathymetry, bottom, data, model results, depth, floor, latitude, longitude, nemo, ocean, oceans,\n",
       "Oceans > Bathymetry/Seafloor Topography > Bathymetry, salishsea, sea, sea_floor_depth, seafloor, topography\n",
       "    keywords_vocabulary: GCMD Science Keywords\n",
       "    license: The Salish Sea MEOPAR NEMO model results are copyright 2013-2016\n",
       "by the Salish Sea MEOPAR Project Contributors and The University of British Columbia.\n",
       "\n",
       "They are licensed under the Apache License, Version 2.0. http://www.apache.org/licenses/LICENSE-2.0\n",
       "    project: Salish Sea MEOPAR NEMO Model\n",
       "    references: https://bitbucket.org/salishsea/nemo-forcing/src/tipgrid/mesh_mask_SalishSea2.nc\n",
       "    source: https://bitbucket.org/salishsea/tools/src/tip/bathymetry/NEMOBathymetryfromMeshMask.ipynb\n",
       "    sourceUrl: (local files)\n",
       "    standard_name_vocabulary: CF Standard Name Table v29\n",
       "    summary: Salish Sea NEMO Model Grid, Geo-location and Bathymetry, v1\n",
       "\n",
       "Longitude, latitude, and bathymetry of the Salish Sea NEMO model grid.\n",
       "The bathymetry values are those calculated by NEMO from the input bathymetry file.\n",
       "NEMO modifies the input bathymetry to remove isolated holes, and too-small partial steps.\n",
       "The model grid includes the Juan de Fuca Strait, the Strait of Georgia, Puget Sound,\n",
       "and Johnstone Strait on the coasts of Washington State and British Columbia.\n",
       "\n",
       "v1: longitude, latitude and b...\n",
       "    title: Salish Sea NEMO Model Grid, Geo-location and Bathymetry, v1"
      ]
     },
     "execution_count": 5,
     "metadata": {},
     "output_type": "execute_result"
    }
   ],
   "source": [
    "ds"
   ]
  },
  {
   "cell_type": "markdown",
   "metadata": {},
   "source": [
    "2 dimensions,2 coordinates, 3 variables"
   ]
  },
  {
   "cell_type": "code",
   "execution_count": 6,
   "metadata": {
    "collapsed": false
   },
   "outputs": [
    {
     "data": {
      "text/plain": [
       "<xarray.DataArray 'longitude' (gridY: 898, gridX: 398)>\n",
       "[357404 values with dtype=float32]\n",
       "Coordinates:\n",
       "  * gridY    (gridY) int32 0 1 2 3 4 5 6 7 8 9 10 11 12 13 14 15 16 17 18 19 ...\n",
       "  * gridX    (gridX) int16 0 1 2 3 4 5 6 7 8 9 10 11 12 13 14 15 16 17 18 19 ...\n",
       "Attributes:\n",
       "    _ChunkSize: [898 398]\n",
       "    colorBarMaximum: 180.0\n",
       "    colorBarMinimum: -180.0\n",
       "    long_name: Longitude\n",
       "    standard_name: longitude\n",
       "    units: degrees_east\n",
       "    valid_range: [-126.40029144 -121.31835175]"
      ]
     },
     "execution_count": 6,
     "metadata": {},
     "output_type": "execute_result"
    }
   ],
   "source": [
    "ds.longitude"
   ]
  },
  {
   "cell_type": "code",
   "execution_count": null,
   "metadata": {
    "collapsed": true
   },
   "outputs": [],
   "source": []
  }
 ],
 "metadata": {
  "kernelspec": {
   "display_name": "Python 3",
   "language": "python",
   "name": "python3"
  },
  "language_info": {
   "codemirror_mode": {
    "name": "ipython",
    "version": 3
   },
   "file_extension": ".py",
   "mimetype": "text/x-python",
   "name": "python",
   "nbconvert_exporter": "python",
   "pygments_lexer": "ipython3",
   "version": "3.5.1"
  }
 },
 "nbformat": 4,
 "nbformat_minor": 0
}
