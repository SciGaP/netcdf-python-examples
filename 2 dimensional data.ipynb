{
 "cells": [
  {
   "cell_type": "code",
   "execution_count": 1,
   "metadata": {
    "collapsed": true
   },
   "outputs": [],
   "source": [
    "import numpy as np\n",
    "import xarray as xr"
   ]
  },
  {
   "cell_type": "code",
   "execution_count": 4,
   "metadata": {
    "collapsed": false
   },
   "outputs": [],
   "source": [
    "ds=xr.open_dataset('https://salishsea.eos.ubc.ca/erddap/griddap/ubcSSnBathymetry2V1')"
   ]
  },
  {
   "cell_type": "code",
   "execution_count": 5,
   "metadata": {
    "collapsed": false
   },
   "outputs": [
    {
     "data": {
      "text/plain": [
       "<xarray.Dataset>\n",
       "Dimensions:     (gridX: 398, gridY: 898)\n",
       "Coordinates:\n",
       "  * gridY       (gridY) int32 0 1 2 3 4 5 6 7 8 9 10 11 12 13 14 15 16 17 18 ...\n",
       "  * gridX       (gridX) int16 0 1 2 3 4 5 6 7 8 9 10 11 12 13 14 15 16 17 18 ...\n",
       "Data variables:\n",
       "    longitude   (gridY, gridX) float32 ...\n",
       "    latitude    (gridY, gridX) float32 ...\n",
       "    bathymetry  (gridY, gridX) float64 ...\n",
       "Attributes:\n",
       "    acknowledgement: MEOPAR, ONC, Compute Canada\n",
       "    cdm_data_type: Grid\n",
       "    comment: Bathymetry, Latitudes and Longitudes\n",
       "    Conventions: CF-1.6, COARDS, ACDD-1.3\n",
       "    coverage_content_type: modelResult\n",
       "    creator_email: sallen@eos.ubc.ca\n",
       "    creator_name: Salish Sea MEOPAR Project Contributors\n",
       "    creator_url: https://salishsea-meopar-docs.readthedocs.org/\n",
       "    drawLandMask: over\n",
       "    history: [2016-02-05 16:35:19] Created dataset.\n",
       "[2016-03-02 18:08:56] Changed all variables to zlib=True.\n",
       "[2016-03-02 18:08:56] Added least_significant_digit=1 and fill_value=0 to bathymetry variable.\n",
       "[2016-03-03 12:28:37] Added valid_range attribute to all variables.\n",
       "2016-06-14T18:40:52Z (local files)\n",
       "2016-06-14T18:40:52Z https://salishsea.eos.ubc.ca/erddap/griddap/ubcSSnBathymetry2V1.das\n",
       "    infoUrl: https://salishsea-meopar-tools.readthedocs.org/en/latest/results_server/index.html#salish-sea-model-results\n",
       "    institution: UBC EOAS\n",
       "    institution_fullname: Earth, Ocean & Atmospheric Sciences, University of British Columbia\n",
       "    keywords: bathymetry, bottom, data, model results, depth, floor, latitude, longitude, nemo, ocean, oceans,\n",
       "Oceans > Bathymetry/Seafloor Topography > Bathymetry, salishsea, sea, sea_floor_depth, seafloor, topography\n",
       "    keywords_vocabulary: GCMD Science Keywords\n",
       "    license: The Salish Sea MEOPAR NEMO model results are copyright 2013-2016\n",
       "by the Salish Sea MEOPAR Project Contributors and The University of British Columbia.\n",
       "\n",
       "They are licensed under the Apache License, Version 2.0. http://www.apache.org/licenses/LICENSE-2.0\n",
       "    project: Salish Sea MEOPAR NEMO Model\n",
       "    references: https://bitbucket.org/salishsea/nemo-forcing/src/tipgrid/mesh_mask_SalishSea2.nc\n",
       "    source: https://bitbucket.org/salishsea/tools/src/tip/bathymetry/NEMOBathymetryfromMeshMask.ipynb\n",
       "    sourceUrl: (local files)\n",
       "    standard_name_vocabulary: CF Standard Name Table v29\n",
       "    summary: Salish Sea NEMO Model Grid, Geo-location and Bathymetry, v1\n",
       "\n",
       "Longitude, latitude, and bathymetry of the Salish Sea NEMO model grid.\n",
       "The bathymetry values are those calculated by NEMO from the input bathymetry file.\n",
       "NEMO modifies the input bathymetry to remove isolated holes, and too-small partial steps.\n",
       "The model grid includes the Juan de Fuca Strait, the Strait of Georgia, Puget Sound,\n",
       "and Johnstone Strait on the coasts of Washington State and British Columbia.\n",
       "\n",
       "v1: longitude, latitude and b...\n",
       "    title: Salish Sea NEMO Model Grid, Geo-location and Bathymetry, v1"
      ]
     },
     "execution_count": 5,
     "metadata": {},
     "output_type": "execute_result"
    }
   ],
   "source": [
    "ds"
   ]
  },
  {
   "cell_type": "markdown",
   "metadata": {},
   "source": [
    "2 dimensions,2 coordinates, 3 variables"
   ]
  },
  {
   "cell_type": "code",
   "execution_count": 6,
   "metadata": {
    "collapsed": false
   },
   "outputs": [
    {
     "data": {
      "text/plain": [
       "<xarray.DataArray 'longitude' (gridY: 898, gridX: 398)>\n",
       "[357404 values with dtype=float32]\n",
       "Coordinates:\n",
       "  * gridY    (gridY) int32 0 1 2 3 4 5 6 7 8 9 10 11 12 13 14 15 16 17 18 19 ...\n",
       "  * gridX    (gridX) int16 0 1 2 3 4 5 6 7 8 9 10 11 12 13 14 15 16 17 18 19 ...\n",
       "Attributes:\n",
       "    _ChunkSize: [898 398]\n",
       "    colorBarMaximum: 180.0\n",
       "    colorBarMinimum: -180.0\n",
       "    long_name: Longitude\n",
       "    standard_name: longitude\n",
       "    units: degrees_east\n",
       "    valid_range: [-126.40029144 -121.31835175]"
      ]
     },
     "execution_count": 6,
     "metadata": {},
     "output_type": "execute_result"
    }
   ],
   "source": [
    "ds.longitude"
   ]
  },
  {
   "cell_type": "code",
   "execution_count": 7,
   "metadata": {
    "collapsed": false
   },
   "outputs": [
    {
     "data": {
      "text/plain": [
       "<xarray.DataArray 'latitude' (gridY: 898, gridX: 398)>\n",
       "[357404 values with dtype=float32]\n",
       "Coordinates:\n",
       "  * gridY    (gridY) int32 0 1 2 3 4 5 6 7 8 9 10 11 12 13 14 15 16 17 18 19 ...\n",
       "  * gridX    (gridX) int16 0 1 2 3 4 5 6 7 8 9 10 11 12 13 14 15 16 17 18 19 ...\n",
       "Attributes:\n",
       "    _ChunkSize: [898 398]\n",
       "    colorBarMaximum: 90.0\n",
       "    colorBarMinimum: -90.0\n",
       "    long_name: Latitude\n",
       "    standard_name: latitude\n",
       "    units: degrees_north\n",
       "    valid_range: [ 46.85966492  51.10480118]"
      ]
     },
     "execution_count": 7,
     "metadata": {},
     "output_type": "execute_result"
    }
   ],
   "source": [
    "ds.latitude"
   ]
  },
  {
   "cell_type": "code",
   "execution_count": 8,
   "metadata": {
    "collapsed": false
   },
   "outputs": [
    {
     "data": {
      "text/plain": [
       "<xarray.DataArray 'bathymetry' (gridY: 898, gridX: 398)>\n",
       "[357404 values with dtype=float64]\n",
       "Coordinates:\n",
       "  * gridY    (gridY) int32 0 1 2 3 4 5 6 7 8 9 10 11 12 13 14 15 16 17 18 19 ...\n",
       "  * gridX    (gridX) int16 0 1 2 3 4 5 6 7 8 9 10 11 12 13 14 15 16 17 18 19 ...\n",
       "Attributes:\n",
       "    _ChunkSize: [898 398]\n",
       "    colorBarMaximum: 450.0\n",
       "    colorBarMinimum: 0.0\n",
       "    colorBarPalette: OceanDepth\n",
       "    grid: Salish Sea 2\n",
       "    long_name: Depth of Bottom\n",
       "    standard_name: sea_floor_depth\n",
       "    units: m\n",
       "    valid_range: [   0.  428.]"
      ]
     },
     "execution_count": 8,
     "metadata": {},
     "output_type": "execute_result"
    }
   ],
   "source": [
    "ds.bathymetry"
   ]
  },
  {
   "cell_type": "code",
   "execution_count": 9,
   "metadata": {
    "collapsed": false
   },
   "outputs": [
    {
     "data": {
      "text/plain": [
       "(898, 398)"
      ]
     },
     "execution_count": 9,
     "metadata": {},
     "output_type": "execute_result"
    }
   ],
   "source": [
    "ds.latitude.shape"
   ]
  },
  {
   "cell_type": "code",
   "execution_count": 10,
   "metadata": {
    "collapsed": false
   },
   "outputs": [
    {
     "data": {
      "text/plain": [
       "(898, 398)"
      ]
     },
     "execution_count": 10,
     "metadata": {},
     "output_type": "execute_result"
    }
   ],
   "source": [
    "ds.longitude.shape"
   ]
  },
  {
   "cell_type": "code",
   "execution_count": 11,
   "metadata": {
    "collapsed": false
   },
   "outputs": [
    {
     "data": {
      "text/plain": [
       "(898, 398)"
      ]
     },
     "execution_count": 11,
     "metadata": {},
     "output_type": "execute_result"
    }
   ],
   "source": [
    "ds.bathymetry.shape"
   ]
  },
  {
   "cell_type": "code",
   "execution_count": 12,
   "metadata": {
    "collapsed": false
   },
   "outputs": [
    {
     "data": {
      "text/plain": [
       "array([[ 46.85966492,  46.86154556,  46.86342621, ...,  47.59721375,\n",
       "         47.59906769,  47.60092163],\n",
       "       [ 46.86278915,  46.86481476,  46.86677933, ...,  47.60125732,\n",
       "         47.60311127,  47.60496521],\n",
       "       [ 46.86606979,  46.86814499,  46.87015915, ...,  47.60529709,\n",
       "         47.60715485,  47.60900879],\n",
       "       ..., \n",
       "       [ 50.38191605,  50.38397598,  50.38602448, ...,  51.09400177,\n",
       "         51.09560776,  51.09720612],\n",
       "       [ 50.38591766,  50.38798523,  50.39004135, ...,  51.09781265,\n",
       "         51.0994072 ,  51.10100174],\n",
       "       [ 50.38992691,  50.39200592,  50.39406967, ...,  51.10162354,\n",
       "         51.10321808,  51.10480118]], dtype=float32)"
      ]
     },
     "execution_count": 12,
     "metadata": {},
     "output_type": "execute_result"
    }
   ],
   "source": [
    "ds.latitude.values"
   ]
  },
  {
   "cell_type": "code",
   "execution_count": 13,
   "metadata": {
    "collapsed": false
   },
   "outputs": [
    {
     "data": {
      "text/plain": [
       "array([[-123.42943573, -123.42411804, -123.41880035, ..., -121.32898712,\n",
       "        -121.32366943, -121.31835175],\n",
       "       [-123.43196869, -123.42677307, -123.42152405, ..., -121.33235931,\n",
       "        -121.32704163, -121.32172394],\n",
       "       [-123.43463898, -123.42948151, -123.42427063, ..., -121.33573151,\n",
       "        -121.33041382, -121.32509613],\n",
       "       ..., \n",
       "       [-126.39330292, -126.38764191, -126.3819809 , ..., -124.34471893,\n",
       "        -124.340065  , -124.3354187 ],\n",
       "       [-126.39678955, -126.39109802, -126.38541412, ..., -124.34797668,\n",
       "        -124.34333801, -124.3387146 ],\n",
       "       [-126.40029144, -126.39456177, -126.38883209, ..., -124.35121918,\n",
       "        -124.34658813, -124.34198761]], dtype=float32)"
      ]
     },
     "execution_count": 13,
     "metadata": {},
     "output_type": "execute_result"
    }
   ],
   "source": [
    "ds.longitude.values"
   ]
  },
  {
   "cell_type": "code",
   "execution_count": 15,
   "metadata": {
    "collapsed": false
   },
   "outputs": [
    {
     "data": {
      "text/plain": [
       "array([[ nan,  nan,  nan, ...,  nan,  nan,  nan],\n",
       "       [ nan,  nan,  nan, ...,  nan,  nan,  nan],\n",
       "       [ nan,  nan,  nan, ...,  nan,  nan,  nan],\n",
       "       ..., \n",
       "       [ nan,  nan,  nan, ...,  nan,  nan,  nan],\n",
       "       [ nan,  nan,  nan, ...,  nan,  nan,  nan],\n",
       "       [ nan,  nan,  nan, ...,  nan,  nan,  nan]])"
      ]
     },
     "execution_count": 15,
     "metadata": {},
     "output_type": "execute_result"
    }
   ],
   "source": [
    "ds.bathymetry.values"
   ]
  },
  {
   "cell_type": "code",
   "execution_count": null,
   "metadata": {
    "collapsed": true
   },
   "outputs": [],
   "source": []
  }
 ],
 "metadata": {
  "kernelspec": {
   "display_name": "Python 3",
   "language": "python",
   "name": "python3"
  },
  "language_info": {
   "codemirror_mode": {
    "name": "ipython",
    "version": 3
   },
   "file_extension": ".py",
   "mimetype": "text/x-python",
   "name": "python",
   "nbconvert_exporter": "python",
   "pygments_lexer": "ipython3",
   "version": "3.5.1"
  }
 },
 "nbformat": 4,
 "nbformat_minor": 0
}
