{
 "cells": [
  {
   "cell_type": "code",
   "execution_count": 3,
   "metadata": {
    "collapsed": true
   },
   "outputs": [],
   "source": [
    "import numpy as np\n",
    "import xarray as xr"
   ]
  },
  {
   "cell_type": "markdown",
   "metadata": {},
   "source": [
    "#Data downloaded from http://www.unidata.ucar.edu/software/netcdf/examples/wrfout_v2_Lambert.nc"
   ]
  },
  {
   "cell_type": "code",
   "execution_count": 4,
   "metadata": {
    "collapsed": false
   },
   "outputs": [],
   "source": [
    "ds=xr.open_dataset('wrfout_v2_Lambert.nc')"
   ]
  },
  {
   "cell_type": "code",
   "execution_count": 5,
   "metadata": {
    "collapsed": false
   },
   "outputs": [
    {
     "data": {
      "text/plain": [
       "<xarray.Dataset>\n",
       "Dimensions:           (Time: 13, bottom_top: 27, bottom_top_stag: 28, ext_scalar: 1, soil_layers_stag: 5, south_north: 60, south_north_stag: 61, west_east: 73, west_east_stag: 74)\n",
       "Coordinates:\n",
       "  * Time              (Time) int64 0 1 2 3 4 5 6 7 8 9 10 11 12\n",
       "  * bottom_top        (bottom_top) int64 0 1 2 3 4 5 6 7 8 9 10 11 12 13 14 ...\n",
       "  * bottom_top_stag   (bottom_top_stag) int64 0 1 2 3 4 5 6 7 8 9 10 11 12 ...\n",
       "  * ext_scalar        (ext_scalar) int64 0\n",
       "  * soil_layers_stag  (soil_layers_stag) int64 0 1 2 3 4\n",
       "  * south_north       (south_north) int64 0 1 2 3 4 5 6 7 8 9 10 11 12 13 14 ...\n",
       "  * south_north_stag  (south_north_stag) int64 0 1 2 3 4 5 6 7 8 9 10 11 12 ...\n",
       "  * west_east         (west_east) int64 0 1 2 3 4 5 6 7 8 9 10 11 12 13 14 ...\n",
       "  * west_east_stag    (west_east_stag) int64 0 1 2 3 4 5 6 7 8 9 10 11 12 13 ...\n",
       "Data variables:\n",
       "    Times             (Time) |S19 b'2000-01-24_12:00:00' ...\n",
       "    LU_INDEX          (Time, south_north, west_east) float32 16.0 16.0 16.0 ...\n",
       "    U                 (Time, bottom_top, south_north, west_east_stag) float32 -1.06967 ...\n",
       "    V                 (Time, bottom_top, south_north_stag, west_east) float32 -13.5656 ...\n",
       "    W                 (Time, bottom_top_stag, south_north, west_east) float32 -0.0 ...\n",
       "    PH                (Time, bottom_top_stag, south_north, west_east) float32 0.0 ...\n",
       "    PHB               (Time, bottom_top_stag, south_north, west_east) float32 0.0 ...\n",
       "    T                 (Time, bottom_top, south_north, west_east) float32 -12.4883 ...\n",
       "    MU                (Time, south_north, west_east) float32 1876.56 1849.13 ...\n",
       "    MUB               (Time, south_north, west_east) float32 95000.0 95000.0 ...\n",
       "    P                 (Time, bottom_top, south_north, west_east) float32 1969.13 ...\n",
       "    PB                (Time, bottom_top, south_north, west_east) float32 99525.0 ...\n",
       "    FNM               (Time, bottom_top) float32 0.0 0.454545 0.461539 ...\n",
       "    FNP               (Time, bottom_top) float32 0.0 0.545455 0.538461 ...\n",
       "    RDNW              (Time, bottom_top) float32 -100.0 -83.3332 -71.4286 ...\n",
       "    RDN               (Time, bottom_top) float32 0.0 -90.909 -76.923 -62.5 ...\n",
       "    DNW               (Time, bottom_top) float32 -0.00999999 -0.012 -0.014 ...\n",
       "    DN                (Time, bottom_top) float32 0.0 -0.011 -0.013 -0.016 ...\n",
       "    ZNU               (Time, bottom_top) float32 0.995 0.984 0.971 0.955 ...\n",
       "    ZNW               (Time, bottom_top_stag) float32 1.0 0.99 0.978 0.964 ...\n",
       "    CFN               (Time, ext_scalar) float32 1.48276 1.48276 1.48276 ...\n",
       "    CFN1              (Time, ext_scalar) float32 -0.482759 -0.482759 ...\n",
       "    EPSTS             (Time, ext_scalar) float32 0.0 0.0 0.0 0.0 0.0 0.0 0.0 ...\n",
       "    Q2                (Time, south_north, west_east) float32 0.0 0.0 0.0 0.0 ...\n",
       "    T2                (Time, south_north, west_east) float32 0.0 0.0 0.0 0.0 ...\n",
       "    TH2               (Time, south_north, west_east) float32 0.0 0.0 0.0 0.0 ...\n",
       "    PSFC              (Time, south_north, west_east) float32 0.0 0.0 0.0 0.0 ...\n",
       "    U10               (Time, south_north, west_east) float32 0.0 0.0 0.0 0.0 ...\n",
       "    V10               (Time, south_north, west_east) float32 0.0 0.0 0.0 0.0 ...\n",
       "    RDX               (Time, ext_scalar) float32 3.33333e-05 3.33333e-05 ...\n",
       "    RDY               (Time, ext_scalar) float32 3.33333e-05 3.33333e-05 ...\n",
       "    RESM              (Time, ext_scalar) float32 0.0 0.0 0.0 0.0 0.0 0.0 0.0 ...\n",
       "    ZETATOP           (Time, ext_scalar) float32 0.0 0.0 0.0 0.0 0.0 0.0 0.0 ...\n",
       "    CF1               (Time, ext_scalar) float32 1.87121 1.87121 1.87121 ...\n",
       "    CF2               (Time, ext_scalar) float32 -1.22377 -1.22377 -1.22377 ...\n",
       "    CF3               (Time, ext_scalar) float32 0.352563 0.352563 0.352563 ...\n",
       "    ITIMESTEP         (Time, ext_scalar) int32 0 20 40 60 80 100 120 140 160 ...\n",
       "    QVAPOR            (Time, bottom_top, south_north, west_east) float32 0.00818111 ...\n",
       "    QCLOUD            (Time, bottom_top, south_north, west_east) float32 0.0 ...\n",
       "    QRAIN             (Time, bottom_top, south_north, west_east) float32 0.0 ...\n",
       "    LANDMASK          (Time, south_north, west_east) float32 0.0 0.0 0.0 0.0 ...\n",
       "    TSLB              (Time, soil_layers_stag, south_north, west_east) float32 295.446 ...\n",
       "    ZS                (Time, soil_layers_stag) float32 0.005 0.02 0.05 0.11 ...\n",
       "    DZS               (Time, soil_layers_stag) float32 0.01 0.02 0.04 0.08 ...\n",
       "    SMOIS             (Time, soil_layers_stag, south_north, west_east) float32 0.0 ...\n",
       "    SH2O              (Time, soil_layers_stag, south_north, west_east) float32 0.0 ...\n",
       "    XICE              (Time, south_north, west_east) float32 0.0 0.0 0.0 0.0 ...\n",
       "    SFROFF            (Time, south_north, west_east) float32 0.0 0.0 0.0 0.0 ...\n",
       "    UDROFF            (Time, south_north, west_east) float32 0.0 0.0 0.0 0.0 ...\n",
       "    IVGTYP            (Time, south_north, west_east) int32 16 16 16 16 16 16 ...\n",
       "    ISLTYP            (Time, south_north, west_east) int32 14 14 14 14 14 14 ...\n",
       "    VEGFRA            (Time, south_north, west_east) float32 0.0 0.0 0.0 0.0 ...\n",
       "    GRDFLX            (Time, south_north, west_east) float32 0.0 0.0 0.0 0.0 ...\n",
       "    SNOW              (Time, south_north, west_east) float32 0.0 0.0 0.0 0.0 ...\n",
       "    SNOWH             (Time, south_north, west_east) float32 0.0 0.0 0.0 0.0 ...\n",
       "    CANWAT            (Time, south_north, west_east) float32 0.0 0.0 0.0 0.0 ...\n",
       "    SST               (Time, south_north, west_east) float32 0.0 0.0 0.0 0.0 ...\n",
       "    MAPFAC_M          (Time, south_north, west_east) float32 1.00902 1.00909 ...\n",
       "    MAPFAC_U          (Time, south_north, west_east_stag) float32 1.00898 ...\n",
       "    MAPFAC_V          (Time, south_north_stag, west_east) float32 1.00967 ...\n",
       "    F                 (Time, south_north, west_east) float32 6.85757e-05 ...\n",
       "    E                 (Time, south_north, west_east) float32 0.000128712 ...\n",
       "    SINALPHA          (Time, south_north, west_east) float32 -0.0523758 ...\n",
       "    COSALPHA          (Time, south_north, west_east) float32 0.998627 ...\n",
       "    HGT               (Time, south_north, west_east) float32 0.0 0.0 0.0 0.0 ...\n",
       "    TSK               (Time, south_north, west_east) float32 295.446 295.454 ...\n",
       "    P_TOP             (Time, ext_scalar) float32 5000.0 5000.0 5000.0 5000.0 ...\n",
       "    RAINC             (Time, south_north, west_east) float32 0.0 0.0 0.0 0.0 ...\n",
       "    RAINNC            (Time, south_north, west_east) float32 0.0 0.0 0.0 0.0 ...\n",
       "    SWDOWN            (Time, south_north, west_east) float32 0.0 0.0 0.0 0.0 ...\n",
       "    GLW               (Time, south_north, west_east) float32 0.0 0.0 0.0 0.0 ...\n",
       "    XLAT              (Time, south_north, west_east) float32 28.0481 28.0335 ...\n",
       "    XLONG             (Time, south_north, west_east) float32 -93.8044 ...\n",
       "    TMN               (Time, south_north, west_east) float32 295.446 295.454 ...\n",
       "    XLAND             (Time, south_north, west_east) float32 2.0 2.0 2.0 2.0 ...\n",
       "    PBLH              (Time, south_north, west_east) float32 0.0 0.0 0.0 0.0 ...\n",
       "    HFX               (Time, south_north, west_east) float32 0.0 0.0 0.0 0.0 ...\n",
       "    QFX               (Time, south_north, west_east) float32 0.0 0.0 0.0 0.0 ...\n",
       "    LH                (Time, south_north, west_east) float32 0.0 0.0 0.0 0.0 ...\n",
       "    SNOWC             (Time, south_north, west_east) float32 0.0 0.0 0.0 0.0 ...\n",
       "Attributes:\n",
       "    TITLE:  OUTPUT FROM WRF V2.0 MODEL\n",
       "    START_DATE: 2000-01-24_12:00:00\n",
       "    WEST-EAST_GRID_DIMENSION: 74\n",
       "    SOUTH-NORTH_GRID_DIMENSION: 61\n",
       "    BOTTOM-TOP_GRID_DIMENSION: 28\n",
       "    GRIDTYPE: C\n",
       "    DYN_OPT: 2\n",
       "    DIFF_OPT: 0\n",
       "    KM_OPT: 1\n",
       "    DAMP_OPT: 0\n",
       "    KHDIF: 0.0\n",
       "    KVDIF: 0.0\n",
       "    MP_PHYSICS: 3\n",
       "    RA_LW_PHYSICS: 1\n",
       "    RA_SW_PHYSICS: 1\n",
       "    SF_SFCLAY_PHYSICS: 1\n",
       "    SF_SURFACE_PHYSICS: 1\n",
       "    BL_PBL_PHYSICS: 1\n",
       "    CU_PHYSICS: 1\n",
       "    WEST-EAST_PATCH_START_UNSTAG: 1\n",
       "    WEST-EAST_PATCH_END_UNSTAG: 73\n",
       "    WEST-EAST_PATCH_START_STAG: 1\n",
       "    WEST-EAST_PATCH_END_STAG: 74\n",
       "    SOUTH-NORTH_PATCH_START_UNSTAG: 1\n",
       "    SOUTH-NORTH_PATCH_END_UNSTAG: 60\n",
       "    SOUTH-NORTH_PATCH_START_STAG: 1\n",
       "    SOUTH-NORTH_PATCH_END_STAG: 61\n",
       "    BOTTOM-TOP_PATCH_START_UNSTAG: 1\n",
       "    BOTTOM-TOP_PATCH_END_UNSTAG: 27\n",
       "    BOTTOM-TOP_PATCH_START_STAG: 1\n",
       "    BOTTOM-TOP_PATCH_END_STAG: 28\n",
       "    DX: 30000.0\n",
       "    DY: 30000.0\n",
       "    DT: 180.0\n",
       "    CEN_LAT: 34.8316\n",
       "    CEN_LON: -81.0276\n",
       "    TRUELAT1: 30.0\n",
       "    TRUELAT2: 60.0\n",
       "    MOAD_CEN_LAT: 34.8316\n",
       "    STAND_LON: -98.0\n",
       "    GMT: 12.0\n",
       "    JULYR: 2000\n",
       "    JULDAY: 24\n",
       "    ISWATER: 16\n",
       "    ISICE: 24\n",
       "    ISURBAN: 1\n",
       "    ISOILWATER: 14\n",
       "    MAP_PROJ: 1\n",
       "    MMINLU: USGS"
      ]
     },
     "execution_count": 5,
     "metadata": {},
     "output_type": "execute_result"
    }
   ],
   "source": [
    "ds"
   ]
  },
  {
   "cell_type": "code",
   "execution_count": 6,
   "metadata": {
    "collapsed": false
   },
   "outputs": [
    {
     "data": {
      "text/plain": [
       "Frozen(SortedKeysDict({'Time': 13, 'south_north_stag': 61, 'bottom_top': 27, 'bottom_top_stag': 28, 'west_east': 73, 'ext_scalar': 1, 'south_north': 60, 'soil_layers_stag': 5, 'west_east_stag': 74}))"
      ]
     },
     "execution_count": 6,
     "metadata": {},
     "output_type": "execute_result"
    }
   ],
   "source": [
    "ds.dims"
   ]
  },
  {
   "cell_type": "markdown",
   "metadata": {},
   "source": [
    "#This data has nine dimensions"
   ]
  },
  {
   "cell_type": "code",
   "execution_count": 7,
   "metadata": {
    "collapsed": false
   },
   "outputs": [
    {
     "data": {
      "text/plain": [
       "Data variables:\n",
       "    Times      (Time) |S19 b'2000-01-24_12:00:00' b'2000-01-24_13:00:00' ...\n",
       "    LU_INDEX   (Time, south_north, west_east) float32 16.0 16.0 16.0 16.0 ...\n",
       "    U          (Time, bottom_top, south_north, west_east_stag) float32 -1.06967 ...\n",
       "    V          (Time, bottom_top, south_north_stag, west_east) float32 -13.5656 ...\n",
       "    W          (Time, bottom_top_stag, south_north, west_east) float32 -0.0 ...\n",
       "    PH         (Time, bottom_top_stag, south_north, west_east) float32 0.0 ...\n",
       "    PHB        (Time, bottom_top_stag, south_north, west_east) float32 0.0 ...\n",
       "    T          (Time, bottom_top, south_north, west_east) float32 -12.4883 ...\n",
       "    MU         (Time, south_north, west_east) float32 1876.56 1849.13 ...\n",
       "    MUB        (Time, south_north, west_east) float32 95000.0 95000.0 ...\n",
       "    P          (Time, bottom_top, south_north, west_east) float32 1969.13 ...\n",
       "    PB         (Time, bottom_top, south_north, west_east) float32 99525.0 ...\n",
       "    FNM        (Time, bottom_top) float32 0.0 0.454545 0.461539 0.4375 ...\n",
       "    FNP        (Time, bottom_top) float32 0.0 0.545455 0.538461 0.5625 ...\n",
       "    RDNW       (Time, bottom_top) float32 -100.0 -83.3332 -71.4286 -55.5555 ...\n",
       "    RDN        (Time, bottom_top) float32 0.0 -90.909 -76.923 -62.5 -47.6191 ...\n",
       "    DNW        (Time, bottom_top) float32 -0.00999999 -0.012 -0.014 -0.018 ...\n",
       "    DN         (Time, bottom_top) float32 0.0 -0.011 -0.013 -0.016 -0.021 ...\n",
       "    ZNU        (Time, bottom_top) float32 0.995 0.984 0.971 0.955 0.934 ...\n",
       "    ZNW        (Time, bottom_top_stag) float32 1.0 0.99 0.978 0.964 0.946 ...\n",
       "    CFN        (Time, ext_scalar) float32 1.48276 1.48276 1.48276 1.48276 ...\n",
       "    CFN1       (Time, ext_scalar) float32 -0.482759 -0.482759 -0.482759 ...\n",
       "    EPSTS      (Time, ext_scalar) float32 0.0 0.0 0.0 0.0 0.0 0.0 0.0 0.0 ...\n",
       "    Q2         (Time, south_north, west_east) float32 0.0 0.0 0.0 0.0 0.0 ...\n",
       "    T2         (Time, south_north, west_east) float32 0.0 0.0 0.0 0.0 0.0 ...\n",
       "    TH2        (Time, south_north, west_east) float32 0.0 0.0 0.0 0.0 0.0 ...\n",
       "    PSFC       (Time, south_north, west_east) float32 0.0 0.0 0.0 0.0 0.0 ...\n",
       "    U10        (Time, south_north, west_east) float32 0.0 0.0 0.0 0.0 0.0 ...\n",
       "    V10        (Time, south_north, west_east) float32 0.0 0.0 0.0 0.0 0.0 ...\n",
       "    RDX        (Time, ext_scalar) float32 3.33333e-05 3.33333e-05 ...\n",
       "    RDY        (Time, ext_scalar) float32 3.33333e-05 3.33333e-05 ...\n",
       "    RESM       (Time, ext_scalar) float32 0.0 0.0 0.0 0.0 0.0 0.0 0.0 0.0 ...\n",
       "    ZETATOP    (Time, ext_scalar) float32 0.0 0.0 0.0 0.0 0.0 0.0 0.0 0.0 ...\n",
       "    CF1        (Time, ext_scalar) float32 1.87121 1.87121 1.87121 1.87121 ...\n",
       "    CF2        (Time, ext_scalar) float32 -1.22377 -1.22377 -1.22377 ...\n",
       "    CF3        (Time, ext_scalar) float32 0.352563 0.352563 0.352563 ...\n",
       "    ITIMESTEP  (Time, ext_scalar) int32 0 20 40 60 80 100 120 140 160 180 ...\n",
       "    QVAPOR     (Time, bottom_top, south_north, west_east) float32 0.00818111 ...\n",
       "    QCLOUD     (Time, bottom_top, south_north, west_east) float32 0.0 0.0 ...\n",
       "    QRAIN      (Time, bottom_top, south_north, west_east) float32 0.0 0.0 ...\n",
       "    LANDMASK   (Time, south_north, west_east) float32 0.0 0.0 0.0 0.0 0.0 ...\n",
       "    TSLB       (Time, soil_layers_stag, south_north, west_east) float32 295.446 ...\n",
       "    ZS         (Time, soil_layers_stag) float32 0.005 0.02 0.05 0.11 0.23 ...\n",
       "    DZS        (Time, soil_layers_stag) float32 0.01 0.02 0.04 0.08 0.16 ...\n",
       "    SMOIS      (Time, soil_layers_stag, south_north, west_east) float32 0.0 ...\n",
       "    SH2O       (Time, soil_layers_stag, south_north, west_east) float32 0.0 ...\n",
       "    XICE       (Time, south_north, west_east) float32 0.0 0.0 0.0 0.0 0.0 ...\n",
       "    SFROFF     (Time, south_north, west_east) float32 0.0 0.0 0.0 0.0 0.0 ...\n",
       "    UDROFF     (Time, south_north, west_east) float32 0.0 0.0 0.0 0.0 0.0 ...\n",
       "    IVGTYP     (Time, south_north, west_east) int32 16 16 16 16 16 16 16 16 ...\n",
       "    ISLTYP     (Time, south_north, west_east) int32 14 14 14 14 14 14 14 14 ...\n",
       "    VEGFRA     (Time, south_north, west_east) float32 0.0 0.0 0.0 0.0 0.0 ...\n",
       "    GRDFLX     (Time, south_north, west_east) float32 0.0 0.0 0.0 0.0 0.0 ...\n",
       "    SNOW       (Time, south_north, west_east) float32 0.0 0.0 0.0 0.0 0.0 ...\n",
       "    SNOWH      (Time, south_north, west_east) float32 0.0 0.0 0.0 0.0 0.0 ...\n",
       "    CANWAT     (Time, south_north, west_east) float32 0.0 0.0 0.0 0.0 0.0 ...\n",
       "    SST        (Time, south_north, west_east) float32 0.0 0.0 0.0 0.0 0.0 ...\n",
       "    MAPFAC_M   (Time, south_north, west_east) float32 1.00902 1.00909 ...\n",
       "    MAPFAC_U   (Time, south_north, west_east_stag) float32 1.00898 1.00905 ...\n",
       "    MAPFAC_V   (Time, south_north_stag, west_east) float32 1.00967 1.00974 ...\n",
       "    F          (Time, south_north, west_east) float32 6.85757e-05 ...\n",
       "    E          (Time, south_north, west_east) float32 0.000128712 ...\n",
       "    SINALPHA   (Time, south_north, west_east) float32 -0.0523758 -0.0561481 ...\n",
       "    COSALPHA   (Time, south_north, west_east) float32 0.998627 0.998422 ...\n",
       "    HGT        (Time, south_north, west_east) float32 0.0 0.0 0.0 0.0 0.0 ...\n",
       "    TSK        (Time, south_north, west_east) float32 295.446 295.454 ...\n",
       "    P_TOP      (Time, ext_scalar) float32 5000.0 5000.0 5000.0 5000.0 5000.0 ...\n",
       "    RAINC      (Time, south_north, west_east) float32 0.0 0.0 0.0 0.0 0.0 ...\n",
       "    RAINNC     (Time, south_north, west_east) float32 0.0 0.0 0.0 0.0 0.0 ...\n",
       "    SWDOWN     (Time, south_north, west_east) float32 0.0 0.0 0.0 0.0 0.0 ...\n",
       "    GLW        (Time, south_north, west_east) float32 0.0 0.0 0.0 0.0 0.0 ...\n",
       "    XLAT       (Time, south_north, west_east) float32 28.0481 28.0335 28.018 ...\n",
       "    XLONG      (Time, south_north, west_east) float32 -93.8044 -93.5019 ...\n",
       "    TMN        (Time, south_north, west_east) float32 295.446 295.454 ...\n",
       "    XLAND      (Time, south_north, west_east) float32 2.0 2.0 2.0 2.0 2.0 ...\n",
       "    PBLH       (Time, south_north, west_east) float32 0.0 0.0 0.0 0.0 0.0 ...\n",
       "    HFX        (Time, south_north, west_east) float32 0.0 0.0 0.0 0.0 0.0 ...\n",
       "    QFX        (Time, south_north, west_east) float32 0.0 0.0 0.0 0.0 0.0 ...\n",
       "    LH         (Time, south_north, west_east) float32 0.0 0.0 0.0 0.0 0.0 ...\n",
       "    SNOWC      (Time, south_north, west_east) float32 0.0 0.0 0.0 0.0 0.0 ..."
      ]
     },
     "execution_count": 7,
     "metadata": {},
     "output_type": "execute_result"
    }
   ],
   "source": [
    "ds.data_vars"
   ]
  },
  {
   "cell_type": "markdown",
   "metadata": {},
   "source": [
    "#All the above displayed are the variables for the data set"
   ]
  },
  {
   "cell_type": "code",
   "execution_count": 8,
   "metadata": {
    "collapsed": false
   },
   "outputs": [
    {
     "data": {
      "text/plain": [
       "Coordinates:\n",
       "  * Time              (Time) int64 0 1 2 3 4 5 6 7 8 9 10 11 12\n",
       "  * bottom_top        (bottom_top) int64 0 1 2 3 4 5 6 7 8 9 10 11 12 13 14 ...\n",
       "  * bottom_top_stag   (bottom_top_stag) int64 0 1 2 3 4 5 6 7 8 9 10 11 12 ...\n",
       "  * ext_scalar        (ext_scalar) int64 0\n",
       "  * soil_layers_stag  (soil_layers_stag) int64 0 1 2 3 4\n",
       "  * south_north       (south_north) int64 0 1 2 3 4 5 6 7 8 9 10 11 12 13 14 ...\n",
       "  * south_north_stag  (south_north_stag) int64 0 1 2 3 4 5 6 7 8 9 10 11 12 ...\n",
       "  * west_east         (west_east) int64 0 1 2 3 4 5 6 7 8 9 10 11 12 13 14 ...\n",
       "  * west_east_stag    (west_east_stag) int64 0 1 2 3 4 5 6 7 8 9 10 11 12 13 ..."
      ]
     },
     "execution_count": 8,
     "metadata": {},
     "output_type": "execute_result"
    }
   ],
   "source": [
    "ds.coords"
   ]
  },
  {
   "cell_type": "markdown",
   "metadata": {},
   "source": [
    "The above are the coordinates of the data.\n",
    "Of all the databases I have opened so far, the coordinates are always thse same as dimensions. Why is it so?"
   ]
  },
  {
   "cell_type": "code",
   "execution_count": 9,
   "metadata": {
    "collapsed": false
   },
   "outputs": [
    {
     "data": {
      "text/plain": [
       "OrderedDict([('TITLE', ' OUTPUT FROM WRF V2.0 MODEL'),\n",
       "             ('START_DATE', '2000-01-24_12:00:00'),\n",
       "             ('WEST-EAST_GRID_DIMENSION', 74),\n",
       "             ('SOUTH-NORTH_GRID_DIMENSION', 61),\n",
       "             ('BOTTOM-TOP_GRID_DIMENSION', 28),\n",
       "             ('GRIDTYPE', 'C'),\n",
       "             ('DYN_OPT', 2),\n",
       "             ('DIFF_OPT', 0),\n",
       "             ('KM_OPT', 1),\n",
       "             ('DAMP_OPT', 0),\n",
       "             ('KHDIF', 0.0),\n",
       "             ('KVDIF', 0.0),\n",
       "             ('MP_PHYSICS', 3),\n",
       "             ('RA_LW_PHYSICS', 1),\n",
       "             ('RA_SW_PHYSICS', 1),\n",
       "             ('SF_SFCLAY_PHYSICS', 1),\n",
       "             ('SF_SURFACE_PHYSICS', 1),\n",
       "             ('BL_PBL_PHYSICS', 1),\n",
       "             ('CU_PHYSICS', 1),\n",
       "             ('WEST-EAST_PATCH_START_UNSTAG', 1),\n",
       "             ('WEST-EAST_PATCH_END_UNSTAG', 73),\n",
       "             ('WEST-EAST_PATCH_START_STAG', 1),\n",
       "             ('WEST-EAST_PATCH_END_STAG', 74),\n",
       "             ('SOUTH-NORTH_PATCH_START_UNSTAG', 1),\n",
       "             ('SOUTH-NORTH_PATCH_END_UNSTAG', 60),\n",
       "             ('SOUTH-NORTH_PATCH_START_STAG', 1),\n",
       "             ('SOUTH-NORTH_PATCH_END_STAG', 61),\n",
       "             ('BOTTOM-TOP_PATCH_START_UNSTAG', 1),\n",
       "             ('BOTTOM-TOP_PATCH_END_UNSTAG', 27),\n",
       "             ('BOTTOM-TOP_PATCH_START_STAG', 1),\n",
       "             ('BOTTOM-TOP_PATCH_END_STAG', 28),\n",
       "             ('DX', 30000.0),\n",
       "             ('DY', 30000.0),\n",
       "             ('DT', 180.0),\n",
       "             ('CEN_LAT', 34.831577),\n",
       "             ('CEN_LON', -81.027557),\n",
       "             ('TRUELAT1', 30.0),\n",
       "             ('TRUELAT2', 60.0),\n",
       "             ('MOAD_CEN_LAT', 34.831577),\n",
       "             ('STAND_LON', -98.0),\n",
       "             ('GMT', 12.0),\n",
       "             ('JULYR', 2000),\n",
       "             ('JULDAY', 24),\n",
       "             ('ISWATER', 16),\n",
       "             ('ISICE', 24),\n",
       "             ('ISURBAN', 1),\n",
       "             ('ISOILWATER', 14),\n",
       "             ('MAP_PROJ', 1),\n",
       "             ('MMINLU', 'USGS')])"
      ]
     },
     "execution_count": 9,
     "metadata": {},
     "output_type": "execute_result"
    }
   ],
   "source": [
    "ds.attrs"
   ]
  },
  {
   "cell_type": "markdown",
   "metadata": {},
   "source": [
    "Above is the metadata"
   ]
  },
  {
   "cell_type": "markdown",
   "metadata": {},
   "source": [
    "ATTRIBUTES OF VARIABLES"
   ]
  },
  {
   "cell_type": "code",
   "execution_count": 10,
   "metadata": {
    "collapsed": false
   },
   "outputs": [
    {
     "data": {
      "text/plain": [
       "<xarray.DataArray 'Times' (Time: 13)>\n",
       "array([b'2000-01-24_12:00:00', b'2000-01-24_13:00:00',\n",
       "       b'2000-01-24_14:00:00', b'2000-01-24_15:00:00',\n",
       "       b'2000-01-24_16:00:00', b'2000-01-24_17:00:00',\n",
       "       b'2000-01-24_18:00:00', b'2000-01-24_19:00:00',\n",
       "       b'2000-01-24_20:00:00', b'2000-01-24_21:00:00',\n",
       "       b'2000-01-24_22:00:00', b'2000-01-24_23:00:00',\n",
       "       b'2000-01-25_00:00:00'], \n",
       "      dtype='|S19')\n",
       "Coordinates:\n",
       "  * Time     (Time) int64 0 1 2 3 4 5 6 7 8 9 10 11 12"
      ]
     },
     "execution_count": 10,
     "metadata": {},
     "output_type": "execute_result"
    }
   ],
   "source": [
    "ds.Times"
   ]
  },
  {
   "cell_type": "code",
   "execution_count": null,
   "metadata": {
    "collapsed": true
   },
   "outputs": [],
   "source": []
  }
 ],
 "metadata": {
  "kernelspec": {
   "display_name": "Python 3",
   "language": "python",
   "name": "python3"
  },
  "language_info": {
   "codemirror_mode": {
    "name": "ipython",
    "version": 3
   },
   "file_extension": ".py",
   "mimetype": "text/x-python",
   "name": "python",
   "nbconvert_exporter": "python",
   "pygments_lexer": "ipython3",
   "version": "3.5.1"
  }
 },
 "nbformat": 4,
 "nbformat_minor": 0
}
